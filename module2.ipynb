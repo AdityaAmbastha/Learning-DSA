{
 "cells": [
  {
   "cell_type": "code",
   "execution_count": 1,
   "id": "aed1cfcd-3ad5-4bde-9f34-f156fada2682",
   "metadata": {},
   "outputs": [],
   "source": [
    "import pickle"
   ]
  },
  {
   "cell_type": "code",
   "execution_count": 2,
   "id": "cc01dd8e-a322-429e-bae1-bf58ab95a970",
   "metadata": {},
   "outputs": [],
   "source": [
    "data = {\n",
    "    'name':'Edward',\n",
    "    'age':24,\n",
    "    'email':'edward@gmail.com'\n",
    "}\n",
    "with open(\"pickling.pkl\",\"wb\") as dt:\n",
    "    pickle.dump(data,dt)"
   ]
  },
  {
   "cell_type": "code",
   "execution_count": 3,
   "id": "c5102624-d663-4e57-8ddd-ddca6daacc07",
   "metadata": {},
   "outputs": [
    {
     "name": "stdout",
     "output_type": "stream",
     "text": [
      "{'name': 'Edward', 'age': 24, 'email': 'edward@gmail.com'}\n"
     ]
    }
   ],
   "source": [
    "with open(\"pickling.pkl\",\"rb\") as dt:\n",
    "    print(pickle.load(dt))"
   ]
  },
  {
   "cell_type": "code",
   "execution_count": 4,
   "id": "e66c7d31-1e61-4f8b-8778-1d22aae58b5a",
   "metadata": {},
   "outputs": [
    {
     "name": "stdin",
     "output_type": "stream",
     "text": [
      "enter your name:  a\n",
      "enter your age:  1\n",
      "enter your email:  a@g.com\n",
      "enter your name:  b\n",
      "enter your age:  2\n",
      "enter your email:  b@g.com\n",
      "enter your name:  c\n",
      "enter your age:  3\n",
      "enter your email:  c@g.com\n",
      "enter your name:  4\n",
      "enter your age:  4\n",
      "enter your email:  d@g.com\n",
      "enter your name:  e\n",
      "enter your age:  5\n",
      "enter your email:  e@g.com\n"
     ]
    }
   ],
   "source": [
    "data = []\n",
    "\n",
    "for i in range(5):\n",
    "    name = input('enter your name: ')\n",
    "    age = int(input('enter your age: '))\n",
    "    email = input('enter your email: ')\n",
    "    \n",
    "    data.append({'name':name, 'age':age, 'email':email, })\n",
    "with open(\"student_data.pkl\",\"wb\") as dt:\n",
    "    pickle.dump(data,dt)"
   ]
  },
  {
   "cell_type": "code",
   "execution_count": 5,
   "id": "c640f269-a075-4c09-b8bc-95848e4a718c",
   "metadata": {},
   "outputs": [
    {
     "name": "stdout",
     "output_type": "stream",
     "text": [
      "[{'name': 'a', 'age': 1, 'email': 'a@g.com'}, {'name': 'b', 'age': 2, 'email': 'b@g.com'}, {'name': 'c', 'age': 3, 'email': 'c@g.com'}, {'name': '4', 'age': 4, 'email': 'd@g.com'}, {'name': 'e', 'age': 5, 'email': 'e@g.com'}]\n"
     ]
    }
   ],
   "source": [
    "with open(\"student_data.pkl\",\"rb\") as dt:\n",
    "    print(pickle.load(dt))"
   ]
  },
  {
   "cell_type": "code",
   "execution_count": 9,
   "id": "68ef9669-022b-438c-8c04-85f85fdb6837",
   "metadata": {},
   "outputs": [],
   "source": [
    "import json\n",
    "data = {\n",
    "    'name':'Edward',\n",
    "    'age':24,\n",
    "    'email':'edward@gmail.com'\n",
    "}\n",
    "with open(\"my_file.json\",\"w+\") as x:\n",
    "    json.dump(data,x)"
   ]
  },
  {
   "cell_type": "code",
   "execution_count": 10,
   "id": "93fd5f6b-28fd-4d83-b46f-012cb382763a",
   "metadata": {},
   "outputs": [
    {
     "name": "stdout",
     "output_type": "stream",
     "text": [
      "{'name': 'Edward', 'age': 24, 'email': 'edward@gmail.com'}\n"
     ]
    }
   ],
   "source": [
    "with open(\"my_file.json\",\"r+\") as x:\n",
    "    print(json.load(x))"
   ]
  },
  {
   "cell_type": "code",
   "execution_count": 11,
   "id": "4ca26b1b-ce8e-4745-98d5-ba654b657319",
   "metadata": {},
   "outputs": [
    {
     "name": "stdin",
     "output_type": "stream",
     "text": [
      "enter your name:  a\n",
      "enter your age:  1\n",
      "enter your email:  a@gmail.com\n",
      "enter your name:  b\n",
      "enter your age:  2\n",
      "enter your email:  c@gmail.com\n",
      "enter your name:  c\n",
      "enter your age:  3\n",
      "enter your email:  c@gmail.com\n",
      "enter your name:  d\n",
      "enter your age:  4\n",
      "enter your email:  c@gmail.com\n",
      "enter your name:  e\n",
      "enter your age:  5\n",
      "enter your email:  e@gmail.com\n"
     ]
    }
   ],
   "source": [
    "import json\n",
    "data = []\n",
    "\n",
    "for i in range(5):\n",
    "    name = input('enter your name: ')\n",
    "    age = int(input('enter your age: '))\n",
    "    email = input('enter your email: ')\n",
    "    \n",
    "    data.append({'name':name, 'age':age, 'email':email})\n",
    "with open(\"student_data.json\",\"w+\") as dt:\n",
    "    json.dump(data,dt)"
   ]
  },
  {
   "cell_type": "code",
   "execution_count": 12,
   "id": "bd81bf76-524f-4d66-8d17-0c08d0ae3641",
   "metadata": {},
   "outputs": [
    {
     "name": "stdout",
     "output_type": "stream",
     "text": [
      "[{'name': 'a', 'age': 1, 'email': 'a@gmail.com'}, {'name': 'b', 'age': 2, 'email': 'c@gmail.com'}, {'name': 'c', 'age': 3, 'email': 'c@gmail.com'}, {'name': 'd', 'age': 4, 'email': 'c@gmail.com'}, {'name': 'e', 'age': 5, 'email': 'e@gmail.com'}]\n"
     ]
    }
   ],
   "source": [
    "with open(\"student_data.json\",\"r+\") as dt:\n",
    "    print(json.load(dt))"
   ]
  },
  {
   "cell_type": "code",
   "execution_count": 13,
   "id": "6fe1fb24-b087-4388-a2e6-f2cce6216d05",
   "metadata": {},
   "outputs": [
    {
     "data": {
      "text/plain": [
       "('mango', 'sweet', 'UP', 120, True)"
      ]
     },
     "execution_count": 13,
     "metadata": {},
     "output_type": "execute_result"
    }
   ],
   "source": [
    "class Fruit:\n",
    "    seed = True\n",
    "    def __init__(self,name,taste,location,price):\n",
    "        self.name = name\n",
    "        self.taste = taste\n",
    "        self.location = location\n",
    "        self.price = price\n",
    "f1 = Fruit(\"mango\",\"sweet\",\"UP\",120)\n",
    "f2 = Fruit(\"banana\",\"sweet\",\"TN\",40)\n",
    "f1.name,f1.taste,f1.location,f1.price,f1.seed\n",
    "f1.name,f1.taste,f1.location,f1.price,f1.seed"
   ]
  },
  {
   "cell_type": "code",
   "execution_count": null,
   "id": "644f160e-28b5-4a94-8026-c11f361da503",
   "metadata": {},
   "outputs": [],
   "source": []
  }
 ],
 "metadata": {
  "kernelspec": {
   "display_name": "Python 3 (ipykernel)",
   "language": "python",
   "name": "python3"
  },
  "language_info": {
   "codemirror_mode": {
    "name": "ipython",
    "version": 3
   },
   "file_extension": ".py",
   "mimetype": "text/x-python",
   "name": "python",
   "nbconvert_exporter": "python",
   "pygments_lexer": "ipython3",
   "version": "3.11.7"
  }
 },
 "nbformat": 4,
 "nbformat_minor": 5
}
