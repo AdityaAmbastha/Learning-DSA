{
 "cells": [
  {
   "cell_type": "code",
   "execution_count": 1,
   "id": "9d39e71b-4c2e-45ca-baaf-cce8dc968f03",
   "metadata": {},
   "outputs": [
    {
     "name": "stdout",
     "output_type": "stream",
     "text": [
      "This is a test file to practice file handling in python.\n"
     ]
    }
   ],
   "source": [
    "with open('file_io_practice.txt','r') as ft:\n",
    "    print(ft.read())"
   ]
  },
  {
   "cell_type": "code",
   "execution_count": 4,
   "id": "e68238f9-cb02-4af9-9751-fafff5cc9044",
   "metadata": {},
   "outputs": [],
   "source": [
    "with open('file_io_practice.txt','a') as ft:\n",
    "    ft.write('\\nappending new text to original file')"
   ]
  },
  {
   "cell_type": "code",
   "execution_count": 5,
   "id": "4d9e3afb-5ee8-4ea5-8d8b-b01f17889d8a",
   "metadata": {},
   "outputs": [
    {
     "name": "stdout",
     "output_type": "stream",
     "text": [
      "This is a test file to practice file handling in python.\n",
      " appending new text to original file\n",
      "appending new text to original file\n"
     ]
    }
   ],
   "source": [
    "with open('file_io_practice.txt','r') as ft:\n",
    "    print(ft.read())"
   ]
  },
  {
   "cell_type": "code",
   "execution_count": 6,
   "id": "8514b074-609c-435c-b9d0-18b22721ff6f",
   "metadata": {},
   "outputs": [
    {
     "name": "stdout",
     "output_type": "stream",
     "text": [
      "33\n"
     ]
    }
   ],
   "source": [
    "with open('file_io_practice.txt','w') as ft:\n",
    "    print(ft.write('overwriting text on original file'))"
   ]
  },
  {
   "cell_type": "code",
   "execution_count": 7,
   "id": "37b7881d-49d1-491b-8a20-8dbac7efebd9",
   "metadata": {},
   "outputs": [
    {
     "name": "stdout",
     "output_type": "stream",
     "text": [
      "overwriting text on original file\n"
     ]
    }
   ],
   "source": [
    "with open('file_io_practice.txt','r') as ft:\n",
    "    print(ft.read())"
   ]
  },
  {
   "cell_type": "code",
   "execution_count": 18,
   "id": "35d31c0c-3ab8-4b69-a51e-e4529dd3252f",
   "metadata": {},
   "outputs": [
    {
     "name": "stdin",
     "output_type": "stream",
     "text": [
      "what's your name?  Draco\n"
     ]
    }
   ],
   "source": [
    "name = input(\"what's your name? \")\n",
    "with open(\"names.txt\",\"a\") as fl:  #fl is an iterable which contains all the elements in the file\n",
    "    fl.write(f\"{name}\\n\")\n"
   ]
  },
  {
   "cell_type": "code",
   "execution_count": 20,
   "id": "95bc9786-8c71-450c-8e85-09e94e1fa1cf",
   "metadata": {},
   "outputs": [
    {
     "name": "stdout",
     "output_type": "stream",
     "text": [
      "hello, Hermoine\n",
      "hello, Harry\n",
      "hello, Ron\n",
      "hello, Draco\n"
     ]
    }
   ],
   "source": [
    "with open(\"names.txt\", \"r\") as file:\n",
    "    lines = file.readlines() #read all the lines and returns as a list (since we have added a /n after each name, it is also added to the list as a part of each name), which is stored in lines\n",
    "for line in lines:\n",
    "    print(\"hello,\", line.rstrip()) #rstrip() removes any character at the end of the string"
   ]
  },
  {
   "cell_type": "code",
   "execution_count": 21,
   "id": "d780ba60-b025-47e3-a66b-b038182b41b9",
   "metadata": {},
   "outputs": [
    {
     "name": "stdout",
     "output_type": "stream",
     "text": [
      "hello, Hermoine\n",
      "hello, Harry\n",
      "hello, Ron\n",
      "hello, Draco\n"
     ]
    }
   ],
   "source": [
    "with open(\"names.txt\", \"r\") as file:\n",
    "    for line in file:\n",
    "        print(\"hello,\", line.rstrip())"
   ]
  },
  {
   "cell_type": "code",
   "execution_count": 22,
   "id": "c146b82c-0e3c-4ded-9d6e-ece867978520",
   "metadata": {},
   "outputs": [
    {
     "name": "stdout",
     "output_type": "stream",
     "text": [
      "Hello, Draco\n",
      "Hello, Harry\n",
      "Hello, Hermoine\n",
      "Hello, Ron\n"
     ]
    }
   ],
   "source": [
    "# sorting and printing the name\n",
    "names = []\n",
    "\n",
    "with open(\"names.txt\") as file: #default value is read \"r\"\n",
    "    for line in file:\n",
    "        names.append(line.rstrip())\n",
    "for name in sorted(names):\n",
    "    print(f\"Hello, {name}\")"
   ]
  },
  {
   "cell_type": "code",
   "execution_count": 23,
   "id": "9562f7c2-16e6-4d9b-9fd0-14a6487ab16f",
   "metadata": {},
   "outputs": [
    {
     "name": "stdout",
     "output_type": "stream",
     "text": [
      "Hello, Draco\n",
      "Hello, Harry\n",
      "Hello, Hermoine\n",
      "Hello, Ron\n"
     ]
    }
   ],
   "source": [
    "with open(\"names.txt\") as file: #default value is read \"r\"; file is an iterable, thus can be sorted directly\n",
    "    for line in sorted(file):\n",
    "        print(\"Hello,\", line.rstrip())"
   ]
  },
  {
   "cell_type": "code",
   "execution_count": 25,
   "id": "7a27e2f8-745d-4622-b7ac-528d47967658",
   "metadata": {},
   "outputs": [
    {
     "name": "stdout",
     "output_type": "stream",
     "text": [
      "Hermione is in Gryffindor\n",
      "Harry is in Gryffindor\n",
      "Ron is in Gryffindor\n",
      "Draco is in Slytherin\n"
     ]
    }
   ],
   "source": [
    "with open(\"students.csv\") as file:\n",
    "    for line in file:\n",
    "        row = line.rstrip().split(\",\") #returns list\n",
    "        print(f\"{row[0]} is in {row[1]}\")\n"
   ]
  },
  {
   "cell_type": "code",
   "execution_count": 26,
   "id": "5c05602b-9a01-4e4d-8d4d-0c4d90dc0ae3",
   "metadata": {},
   "outputs": [
    {
     "name": "stdout",
     "output_type": "stream",
     "text": [
      "Hermione is in Gryffindor\n",
      "Harry is in Gryffindor\n",
      "Ron is in Gryffindor\n",
      "Draco is in Slytherin\n"
     ]
    }
   ],
   "source": [
    "with open(\"students.csv\") as file:\n",
    "    for line in file:\n",
    "        name, house = line.rstrip().split(\",\") #returns list\n",
    "        print(f\"{name} is in {house}\")"
   ]
  },
  {
   "cell_type": "code",
   "execution_count": 27,
   "id": "f4b24a5a-c9aa-4989-aaf8-dfa96ba3ae43",
   "metadata": {},
   "outputs": [
    {
     "name": "stdout",
     "output_type": "stream",
     "text": [
      "Draco is in Slytherin\n",
      "Harry is in Gryffindor\n",
      "Hermione is in Gryffindor\n",
      "Ron is in Gryffindor\n"
     ]
    }
   ],
   "source": [
    "#sorting using names\n",
    "students = []\n",
    "\n",
    "with open(\"students.csv\") as file:\n",
    "    for line in file:\n",
    "        name, house = line.rstrip().split(\",\")\n",
    "        students.append(f\"{name} is in {house}\")\n",
    "for student in sorted(students):\n",
    "    print(student)"
   ]
  },
  {
   "cell_type": "code",
   "execution_count": 30,
   "id": "3b26a1b6-3450-438b-8e49-7b7fdf7e33c1",
   "metadata": {},
   "outputs": [
    {
     "name": "stdout",
     "output_type": "stream",
     "text": [
      "Hermione is in Gryffindor\n",
      "Harry is in Gryffindor\n",
      "Ron is in Gryffindor\n",
      "Draco is in Slytherin\n"
     ]
    }
   ],
   "source": [
    "#storing students name and house in a dictionary\n",
    "students = []\n",
    "\n",
    "with open(\"students.csv\") as file:\n",
    "    for line in file:\n",
    "        name, house = line.rstrip().split(\",\")\n",
    "        student = {}\n",
    "        student[\"name\"] = name\n",
    "        student[\"house\"] = house\n",
    "        students.append(student)\n",
    "#print(students)\n",
    "for student in students:\n",
    "    print(f\"{student['name']} is in {student['house']}\")"
   ]
  },
  {
   "cell_type": "code",
   "execution_count": 31,
   "id": "48c63b6b-1d7d-4ff5-b8ce-760d67900792",
   "metadata": {},
   "outputs": [
    {
     "name": "stdout",
     "output_type": "stream",
     "text": [
      "Hermione is in Gryffindor\n",
      "Harry is in Gryffindor\n",
      "Ron is in Gryffindor\n",
      "Draco is in Slytherin\n"
     ]
    }
   ],
   "source": [
    "students = []\n",
    "\n",
    "with open(\"students.csv\") as file:\n",
    "    for line in file:\n",
    "        name, house = line.rstrip().split(\",\")\n",
    "        student = {\"name\":name, \"house\":house}        \n",
    "        students.append(student)\n",
    "#print(students)\n",
    "for student in students:\n",
    "    print(f\"{student['name']} is in {student['house']}\")"
   ]
  },
  {
   "cell_type": "code",
   "execution_count": null,
   "id": "aa2845fa-d70f-402d-9eef-d2614c84beb1",
   "metadata": {},
   "outputs": [],
   "source": []
  }
 ],
 "metadata": {
  "kernelspec": {
   "display_name": "Python 3 (ipykernel)",
   "language": "python",
   "name": "python3"
  },
  "language_info": {
   "codemirror_mode": {
    "name": "ipython",
    "version": 3
   },
   "file_extension": ".py",
   "mimetype": "text/x-python",
   "name": "python",
   "nbconvert_exporter": "python",
   "pygments_lexer": "ipython3",
   "version": "3.11.7"
  }
 },
 "nbformat": 4,
 "nbformat_minor": 5
}
